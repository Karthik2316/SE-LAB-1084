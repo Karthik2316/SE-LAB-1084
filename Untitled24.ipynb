{
  "nbformat": 4,
  "nbformat_minor": 0,
  "metadata": {
    "colab": {
      "provenance": [],
      "authorship_tag": "ABX9TyMG5R6HrfUCCJWbNlftaILX",
      "include_colab_link": true
    },
    "kernelspec": {
      "name": "python3",
      "display_name": "Python 3"
    },
    "language_info": {
      "name": "python"
    }
  },
  "cells": [
    {
      "cell_type": "markdown",
      "metadata": {
        "id": "view-in-github",
        "colab_type": "text"
      },
      "source": [
        "<a href=\"https://colab.research.google.com/github/Karthik2316/SE-LAB-1084/blob/main/Untitled24.ipynb\" target=\"_parent\"><img src=\"https://colab.research.google.com/assets/colab-badge.svg\" alt=\"Open In Colab\"/></a>"
      ]
    },
    {
      "cell_type": "markdown",
      "source": [
        "Hardcoded variables"
      ],
      "metadata": {
        "id": "lttfaMaKT6jn"
      }
    },
    {
      "cell_type": "code",
      "source": [
        "# Step 1: Hardcoded variables\n",
        "name = \"John\"\n",
        "age = 25\n",
        "city = \"New York\"\n",
        "\n",
        "# Step 2: Taking user input\n",
        "user_name = input(\"Enter your name: \")\n",
        "user_age = int(input(\"Enter your age: \"))\n",
        "user_city = input(\"Enter your city: \")\n",
        "\n",
        "\n",
        "print(f\"Hello {user_name}, you are {user_age} years old and live in {user_city}.\")\n",
        "print(f\"Hardcoded info: Name: {name}, Age: {age}, City: {city}\")"
      ],
      "metadata": {
        "colab": {
          "base_uri": "https://localhost:8080/"
        },
        "id": "uGETmEnXUFJP",
        "outputId": "86a2ee5a-956c-4099-816d-27d881430a64"
      },
      "execution_count": 5,
      "outputs": [
        {
          "output_type": "stream",
          "name": "stdout",
          "text": [
            "Enter your name: Karthik\n",
            "Enter your age: 20\n",
            "Enter your city: hyderabad\n",
            "Hello Karthik, you are 20 years old and live in hyderabad.\n",
            "Hardcoded info: Name: John, Age: 25, City: New York\n"
          ]
        }
      ]
    },
    {
      "cell_type": "markdown",
      "source": [
        "KEYBOARD INPUT"
      ],
      "metadata": {
        "id": "DljwAtwOUU7X"
      }
    },
    {
      "cell_type": "code",
      "source": [
        "# Accepting user input using input() function\n",
        "user_name = input(\"Enter your name: \")\n",
        "user_age = int(input(\"Enter your age: \"))  # Convert the input to an integer\n",
        "user_city = input(\"Enter your city: \")\n",
        "\n",
        "# Displaying the data entered by the user\n",
        "print(f\"Hello {user_name}, you are {user_age} years old and live in {user_city}.\")"
      ],
      "metadata": {
        "colab": {
          "base_uri": "https://localhost:8080/"
        },
        "id": "W5Sxj7snUbhf",
        "outputId": "7c6f0da7-4a65-4a10-f961-a9297297d029"
      },
      "execution_count": 6,
      "outputs": [
        {
          "output_type": "stream",
          "name": "stdout",
          "text": [
            "Enter your name: Karthik\n",
            "Enter your age: 20\n",
            "Enter your city: hyderabad\n",
            "Hello Karthik, you are 20 years old and live in hyderabad.\n"
          ]
        }
      ]
    },
    {
      "cell_type": "markdown",
      "source": [
        "READ FROM FILE (SINGLE INPUT)"
      ],
      "metadata": {
        "id": "WCIAch-UUkx9"
      }
    },
    {
      "cell_type": "code",
      "source": [
        "# Read a single input from a file\n",
        "filename = '/content/write a program to read and display.txt'  # File containing a single input\n",
        "\n",
        "try:\n",
        "    with open(filename, 'r') as file:  # Open the file in read mode\n",
        "        single_input = file.readline().strip()  # Read the first line and remove any extra whitespace\n",
        "    print(f\"The input from the file is: {single_input}\")\n",
        "except FileNotFoundError:\n",
        "    print(f\"Error: The file {filename} was not found.\")"
      ],
      "metadata": {
        "colab": {
          "base_uri": "https://localhost:8080/"
        },
        "id": "YFIoXpW-Ut91",
        "outputId": "3bbf9b6e-78d9-4aea-f791-a9f92c205a60"
      },
      "execution_count": 8,
      "outputs": [
        {
          "output_type": "stream",
          "name": "stdout",
          "text": [
            "The input from the file is: KARTHIK\n"
          ]
        }
      ]
    },
    {
      "cell_type": "markdown",
      "source": [
        "MULTIPLE INPUTS"
      ],
      "metadata": {
        "id": "OGoPTq4fV5dD"
      }
    },
    {
      "cell_type": "code",
      "source": [
        "# Read multiple inputs from a file and process them\n",
        "filename = '/content/Karthik,25,New York.txt'  # File containing multiple inputs\n",
        "\n",
        "try:\n",
        "    with open(filename, 'r') as file:\n",
        "        # Read all lines from the file\n",
        "        lines = file.readlines()\n",
        "\n",
        "    # Process each line\n",
        "    for line in lines:\n",
        "        # Split the line into name, age, and city\n",
        "        name, age, city = line.strip().split(',')\n",
        "\n",
        "        # Display the processed data\n",
        "        print(f\"Name: {name}, Age: {age}, City: {city}\")\n",
        "\n",
        "except FileNotFoundError:\n",
        "    print(f\"Error: The file {filename} was not found.\")"
      ],
      "metadata": {
        "colab": {
          "base_uri": "https://localhost:8080/"
        },
        "id": "Bn0CQah4WDPT",
        "outputId": "1c250daf-1b45-40be-a8cf-d0774a2730af"
      },
      "execution_count": 9,
      "outputs": [
        {
          "output_type": "stream",
          "name": "stdout",
          "text": [
            "Name: Karthik, Age: 25, City: New York\n",
            "Name: Sunny, Age: 30, City: Los Angeles\n",
            "Name: Udith, Age: 35, City: Chicago\n"
          ]
        }
      ]
    },
    {
      "cell_type": "markdown",
      "source": [
        "SAVE ALL VERSIONS"
      ],
      "metadata": {
        "id": "9VH28KaaZNT_"
      }
    },
    {
      "cell_type": "code",
      "source": [
        "# Write multiple numbers to a file\n",
        "with open('multiple_inputs.txt', 'w') as file:\n",
        "    file.write(\"10\\n20\\n30\")  # Write multiple numbers, each on a new line\n",
        "\n",
        "print(\"multiple_inputs.txt created!\")  # Confirmation message"
      ],
      "metadata": {
        "colab": {
          "base_uri": "https://localhost:8080/"
        },
        "id": "ZpsNHEk-ZPbv",
        "outputId": "324c4925-bf43-47bb-f304-209c86b0d826"
      },
      "execution_count": 10,
      "outputs": [
        {
          "output_type": "stream",
          "name": "stdout",
          "text": [
            "multiple_inputs.txt created!\n"
          ]
        }
      ]
    },
    {
      "cell_type": "markdown",
      "source": [
        "DEBUG AND FIX ERRORS"
      ],
      "metadata": {
        "id": "ny-WEvxLZS5P"
      }
    },
    {
      "cell_type": "code",
      "source": [
        "# Read From File (Multiple Inputs) Example\n",
        "# Program: Read multiple numbers from a file and calculate their sum\n",
        "\n",
        "try:\n",
        "    with open('multiple_inputs.txt', 'r') as file:\n",
        "        numbers = file.readlines()  # Read all lines from the file\n",
        "        numbers = [int(num.strip()) for num in numbers]  # Convert each line to an integer\n",
        "\n",
        "    result = sum(numbers)  # Calculate the sum of the numbers\n",
        "    print(f\"Numbers from file: {numbers}, Sum: {result}\")  # Output the numbers and their sum\n",
        "\n",
        "except FileNotFoundError:\n",
        "    print(\"File not found. Please create a file named 'multiple_inputs.txt'.\")\n",
        "except ValueError:\n",
        "    print(\"File content must contain valid integers.\")"
      ],
      "metadata": {
        "colab": {
          "base_uri": "https://localhost:8080/"
        },
        "id": "L_Pf2YOxZW83",
        "outputId": "cd54ac8f-0050-4bc2-9b54-b26c30a94896"
      },
      "execution_count": 11,
      "outputs": [
        {
          "output_type": "stream",
          "name": "stdout",
          "text": [
            "Numbers from file: [10, 20, 30], Sum: 60\n"
          ]
        }
      ]
    }
  ]
}